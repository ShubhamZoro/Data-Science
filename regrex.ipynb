{
  "nbformat": 4,
  "nbformat_minor": 0,
  "metadata": {
    "colab": {
      "provenance": [],
      "authorship_tag": "ABX9TyPdE4V1mE1wcFO4blO4CZ+o",
      "include_colab_link": true
    },
    "kernelspec": {
      "name": "python3",
      "display_name": "Python 3"
    },
    "language_info": {
      "name": "python"
    }
  },
  "cells": [
    {
      "cell_type": "markdown",
      "metadata": {
        "id": "view-in-github",
        "colab_type": "text"
      },
      "source": [
        "<a href=\"https://colab.research.google.com/github/ShubhamZoro/Data-Science/blob/main/regrex.ipynb\" target=\"_parent\"><img src=\"https://colab.research.google.com/assets/colab-badge.svg\" alt=\"Open In Colab\"/></a>"
      ]
    },
    {
      "cell_type": "code",
      "execution_count": null,
      "metadata": {
        "id": "EpneK6xW95lN"
      },
      "outputs": [],
      "source": [
        "import re"
      ]
    },
    {
      "cell_type": "code",
      "source": [
        "chat1='codebasics: Hello, I am having an issue with my order # 412889912'\n",
        "chat2='codebasics: I have a problem with my order number 412889912 : (123)-567-8912, abc@xyz.com'\n",
        "chat3='codebasics: My order 412889912 is having an issue, I was charged 300$ when online it says 280$ 412889912 : (123)-567-8912, abc@xyz.com'"
      ],
      "metadata": {
        "id": "a8lkpd5g98aw"
      },
      "execution_count": null,
      "outputs": []
    },
    {
      "cell_type": "code",
      "source": [
        "pattern='\\d{9}'\n",
        "matches=re.findall(pattern,chat1)\n",
        "matches"
      ],
      "metadata": {
        "colab": {
          "base_uri": "https://localhost:8080/"
        },
        "id": "ptHChdgPAUiB",
        "outputId": "2b8b2a94-7f75-4e44-f72c-ef7542fd5cf4"
      },
      "execution_count": null,
      "outputs": [
        {
          "output_type": "execute_result",
          "data": {
            "text/plain": [
              "['412889912']"
            ]
          },
          "metadata": {},
          "execution_count": 5
        }
      ]
    },
    {
      "cell_type": "code",
      "source": [
        "pattern='\\d{9}|\\(\\d{3}\\)-\\d{3}-\\d{4}'\n",
        "matches=re.findall(pattern,chat2)\n",
        "matches"
      ],
      "metadata": {
        "colab": {
          "base_uri": "https://localhost:8080/"
        },
        "id": "FgfpPsltAoKV",
        "outputId": "43fccfa9-1554-4c7e-f48a-3713280f4562"
      },
      "execution_count": null,
      "outputs": [
        {
          "output_type": "execute_result",
          "data": {
            "text/plain": [
              "['412889912', '(123)-567-8912']"
            ]
          },
          "metadata": {},
          "execution_count": 9
        }
      ]
    },
    {
      "cell_type": "code",
      "source": [
        "pattern='[a-z0-9A-Z_]*@[a-z0-9A-Z]*\\.[a-zA-Z]*'\n",
        "matches=re.findall(pattern,chat3)\n",
        "matches"
      ],
      "metadata": {
        "colab": {
          "base_uri": "https://localhost:8080/"
        },
        "id": "Sa4J93TcCcwN",
        "outputId": "50c40136-8d6c-49b4-b0af-c9989feed971"
      },
      "execution_count": null,
      "outputs": [
        {
          "output_type": "execute_result",
          "data": {
            "text/plain": [
              "['abc@xyz.com']"
            ]
          },
          "metadata": {},
          "execution_count": 11
        }
      ]
    },
    {
      "cell_type": "code",
      "source": [
        "pattern='order[^\\d]*(\\d*)'\n",
        "matches=re.findall(pattern,chat3)\n",
        "matches"
      ],
      "metadata": {
        "colab": {
          "base_uri": "https://localhost:8080/"
        },
        "id": "oxuIgiMoEw81",
        "outputId": "a766cf0d-2ab8-424c-b7bc-6a9e89921308"
      },
      "execution_count": null,
      "outputs": [
        {
          "output_type": "execute_result",
          "data": {
            "text/plain": [
              "['412889912']"
            ]
          },
          "metadata": {},
          "execution_count": 12
        }
      ]
    },
    {
      "cell_type": "code",
      "source": [
        "chat=\"Born\tElon Reeve Musk June 28, 1971 (age 51)Pretoria, Transvaal, South AfricaEducation\tUniversity of Pennsylvania (BA, BS)Title\tFounder, CEO and chief engineer of SpaceXCEO and product architect of Tesla, Inc.CEO of Twitter, Inc.President of the Musk Foundation Founder of The Boring Company Co-founder of Neuralink, OpenAI, Zip2 and X.com (now part of PayPal) Spouses Justine Wilson\"\n",
        "pattern='age (\\d+)'\n",
        "matches=re.findall(pattern,chat)\n",
        "matches"
      ],
      "metadata": {
        "colab": {
          "base_uri": "https://localhost:8080/"
        },
        "id": "c1CiD7PFGAWe",
        "outputId": "4b6c82d8-b14a-4339-d230-67828eb62a9a"
      },
      "execution_count": null,
      "outputs": [
        {
          "output_type": "execute_result",
          "data": {
            "text/plain": [
              "['51']"
            ]
          },
          "metadata": {},
          "execution_count": 13
        }
      ]
    },
    {
      "cell_type": "code",
      "source": [
        "chat=\"Born\tElon Reeve Musk\"\n",
        "\" June 28, 1971 (age 51) Pretoria, Transvaal, South Africa\"\n",
        "\"Education\tUniversity of Pennsylvania (BA, BS)Title\tFounder, CEO and chief engineer of SpaceXCEO and product architect of Tesla, Inc.CEO of Twitter, Inc.President of the Musk Foundation Founder of The Boring Company Co-founder of Neuralink, OpenAI, Zip2 and X.com (now part of PayPal) Spouses Justine Wilson\"\n",
        "pattern='Born(.*)'\n",
        "matches=re.findall(pattern,chat)\n",
        "matches"
      ],
      "metadata": {
        "colab": {
          "base_uri": "https://localhost:8080/"
        },
        "id": "ZuLq-xDFH7gt",
        "outputId": "d63398bf-541d-4169-bd22-d724abd5c6dd"
      },
      "execution_count": null,
      "outputs": [
        {
          "output_type": "execute_result",
          "data": {
            "text/plain": [
              "['\\tElon Reeve Musk']"
            ]
          },
          "metadata": {},
          "execution_count": 20
        }
      ]
    },
    {
      "cell_type": "code",
      "source": [
        "def get_pattern_match(pattern, text):\n",
        "    matches = re.findall(pattern, text)\n",
        "    if matches:\n",
        "        return matches[0]"
      ],
      "metadata": {
        "id": "0aEN357BISRx"
      },
      "execution_count": null,
      "outputs": []
    },
    {
      "cell_type": "code",
      "source": [
        "get_pattern_match(\"\\(age.*\\n(.*)\", chat)"
      ],
      "metadata": {
        "id": "Hi9YZb-NI9bq"
      },
      "execution_count": null,
      "outputs": []
    },
    {
      "cell_type": "code",
      "source": [
        "def extract_personal_information(text):\n",
        "    age = get_pattern_match('age (\\d+)', text)\n",
        "    full_name = get_pattern_match('Born(.*)\\n', text)\n",
        "    birth_date = get_pattern_match('Born.*\\n(.*)\\(age', text)\n",
        "    birth_place = get_pattern_match('\\(age.*\\n(.*)', text)\n",
        "    return {\n",
        "        'age': int(age),\n",
        "        'name': full_name.strip(),\n",
        "        'birth_date': birth_date.strip(),\n",
        "        'birth_place': birth_place.strip()\n",
        "    }"
      ],
      "metadata": {
        "id": "8WfoV4IIJMW-"
      },
      "execution_count": null,
      "outputs": []
    },
    {
      "cell_type": "code",
      "source": [
        "text = '''\n",
        "Born\tMukesh Dhirubhai Ambani\n",
        "19 April 1957 (age 64)\n",
        "Aden, Colony of Aden\n",
        "(present-day Yemen)[1][2]\n",
        "Nationality\tIndian\n",
        "Alma mater\t\n",
        "St. Xavier's College, Mumbai\n",
        "Institute of Chemical Technology (B.E.)\n",
        "Stanford University (drop-out)\n",
        "Occupation\tChairman and MD, Reliance Industries\n",
        "Spouse(s)\tNita Ambani ​(m. 1985)​[3]\n",
        "Children\t3\n",
        "Parent(s)\t\n",
        "Dhirubhai Ambani (father)\n",
        "Kokilaben Ambani (mother)\n",
        "Relatives\tAnil Ambani (brother)\n",
        "Tina Ambani (sister-in-law)\n",
        "'''"
      ],
      "metadata": {
        "id": "QuMyxxCAJtd3"
      },
      "execution_count": null,
      "outputs": []
    },
    {
      "cell_type": "code",
      "source": [
        "\n",
        "extract_personal_information(text)"
      ],
      "metadata": {
        "id": "Uj5_z5rTJ4HL",
        "outputId": "55cee0b5-9de3-4ffe-e6d7-0db2afed620b",
        "colab": {
          "base_uri": "https://localhost:8080/"
        }
      },
      "execution_count": null,
      "outputs": [
        {
          "output_type": "execute_result",
          "data": {
            "text/plain": [
              "{'age': 64,\n",
              " 'name': 'Mukesh Dhirubhai Ambani',\n",
              " 'birth_date': '19 April 1957',\n",
              " 'birth_place': 'Aden, Colony of Aden'}"
            ]
          },
          "metadata": {},
          "execution_count": 25
        }
      ]
    },
    {
      "cell_type": "code",
      "source": [],
      "metadata": {
        "id": "aC4BXNnrJ41G"
      },
      "execution_count": null,
      "outputs": []
    }
  ]
}